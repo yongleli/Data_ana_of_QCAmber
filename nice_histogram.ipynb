import numpy as np
import matplotlib.pyplot as plt
import matplotlib as mpl
import random
mpl.rc('font',family='Times New Roman',size='16')

## Prepare colors.
tableau20 = [(31, 119, 180), (174, 199, 232), (255, 127, 14), (255, 187, 120),
             (44, 160, 44), (152, 223, 138), (214, 39, 40), (255, 152, 150),
             (148, 103, 189), (197, 176, 213), (140, 86, 75), (196, 156, 148),
             (227, 119, 194), (247, 182, 210), (127, 127, 127), (199, 199, 199),
             (188, 189, 34), (219, 219, 141), (23, 190, 207), (158, 218, 229)]

# Scale the RGB values to the [0, 1] range, which is the format matplotlib accepts.
for i in range(len(tableau20)):
    r, g, b = tableau20[i]
    tableau20[i] = (r / 255., g / 255., b / 255.)
## End preparation of colors.

fig = plt.figure(1,figsize=(7, 5))

SAMPLE_SIZE = 1000
buckets = 100
mpl.rc('font',family='Times New Roman',size='7')

plt.xlabel("Random normalvariate")
mu = 1
sigma = 0.5
res = [random.normalvariate (mu, sigma) for _ in xrange(1,SAMPLE_SIZE)]
n, bins, patches=plt.hist(res,buckets,edgecolor='#2f4f4f',lw=3,histtype='stepfilled')
plt.setp(patches, 'facecolor', '#add8e6', 'alpha', 0.75)

plt.tight_layout()
plt.show()
