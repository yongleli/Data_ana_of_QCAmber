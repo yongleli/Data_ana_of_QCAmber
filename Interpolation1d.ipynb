import numpy as np
from scipy.interpolate import interp1d
data = np.genfromtxt('pot.0.dat')
x = data[:,0]
y = data[:,1]
f = interp1d(x, y)
f2 = interp1d(x, y, kind='cubic')
Nx=len(x)
xmin=np.min(x)
xmax=np.max(x)
indymax=np.argmax(y)

from interpolate import LinearInterpolator
fs = LinearInterpolator(x,y)

#import matplotlib.pyplot as plt
print "X_new   |   Linear  |  Cubic  "
print "0.0: ", f(0.0), f2(0.0)
print "x_max: ", f(x[indymax]+0.001),f2(x[indymax]+0.001)
#plt.legend(['data', 'linear', 'cubic'], loc='best')
#plt.show()
print "Self linear interpolation"
print "0.0: ", fs(0.0)
print "x_max: ",fs(x[indymax]+0.001)

##############
import math
import numpy
class LinearInterpolator(object):

    def __init__(self, xdata, ydata):
        self.xdata = xdata
        self.ydata = ydata
        self.N = xdata.shape[0]
        self.xmin = self.xdata[0]
        self.xmax = self.xdata[self.N-1]

    def __call__(self, x):
        return self.value(x)

    def value(self, x):

        if x < self.xmin:
            raise ValueError('The requested value x = {0:g} is below the interpolation range.'.format(x))
        elif x > self.xmax:
            raise ValueError('The requested value x = {0:g} is above the interpolation range.'.format(x))

        xdata = self.xdata
        ydata = self.ydata

        # Binary search for insert position
        imin = 0; imax = self.N
        while imax >= imin:
            imid = (imin + imax) / 2
            if xdata[imid] < x:
                imin = imid + 1
            elif xdata[imid] > x:
                imax = imid - 1
            else:
                break

        if imin > imax:
            y2 = ydata[imin]
            y1 = ydata[imax]
            x2 = xdata[imin]
            x1 = xdata[imax]
        elif imin < imax:
            y2 = ydata[imax]
            y1 = ydata[imin]
            x2 = xdata[imax]
            x1 = xdata[imin]
        else:
            return ydata[imin]

        return (y2 - y1) / (x2 - x1) * (x - x1) + y1
