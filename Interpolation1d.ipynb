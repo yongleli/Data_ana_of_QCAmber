import numpy as np
from scipy.interpolate import interp1d
data = np.genfromtxt('pot.0.dat')
x = data[:,0]
y = data[:,1]
f = interp1d(x, y)
f2 = interp1d(x, y, kind='cubic')
Nx=len(x)
xmin=np.min(x)
xmax=np.max(x)
indymax=np.argmax(y)

from interpolate import LinearInterpolator
fs = LinearInterpolator(x,y)

#import matplotlib.pyplot as plt
print "X_new   |   Linear  |  Cubic  "
print "0.0: ", f(0.0), f2(0.0)
print "x_max: ", f(x[indymax]+0.001),f2(x[indymax]+0.001)
#plt.legend(['data', 'linear', 'cubic'], loc='best')
#plt.show()
print "Self linear interpolation"
print "0.0: ", fs(0.0)
print "x_max: ",fs(x[indymax]+0.001)
