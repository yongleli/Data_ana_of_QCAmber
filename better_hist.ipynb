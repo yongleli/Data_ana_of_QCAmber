import numpy as np
import matplotlib.pyplot as plt
import matplotlib as mpl
mpl.rc('font',family='Times New Roman',size='16')

# generate measures from gaussian distribution
x = np.arange(0, 10, 1)

# values computed from "measured"
y = np.log(x)

# add some error samples from standard normal distribution
xe = 0.1 * np.abs(np.random.randn(len(y)))

# draw and show errorbar
## Colors are from:http://colorbrewer2.org
plt.bar(x, y, yerr=xe, width=0.4, align='center', \
        ecolor='#d7191c', color='#ffffbf',edgecolor='#2c7bb6', \
        label='experiment #1',\
       linewidth=2,\
       error_kw={'linewidth':2,'markeredgewidth':2}\
       );

# give some explainations
plt.xlabel('# measurement')
plt.ylabel('Measured values')
plt.title('Measurements')
plt.legend(loc='upper left')

plt.show()
