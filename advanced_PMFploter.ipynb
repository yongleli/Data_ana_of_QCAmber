#!/usr/bin/env python
# encoding: utf-8

import matplotlib.pylab as plt
import numpy as np
import matplotlib as mpl

mpl.rc('font',family='Times New Roman',size='16')
fig = plt.figure(1,figsize=(7,5))

tableau20 = [(31, 119, 180), (174, 199, 232), (255, 127, 14), (255, 187, 120),    
             (44, 160, 44), (152, 223, 138), (214, 39, 40), (255, 152, 150),    
             (148, 103, 189), (197, 176, 213), (140, 86, 75), (196, 156, 148),    
             (227, 119, 194), (247, 182, 210), (127, 127, 127), (199, 199, 199),    
             (188, 189, 34), (219, 219, 141), (23, 190, 207), (158, 218, 229)]    
  
# Scale the RGB values to the [0, 1] range, which is the format matplotlib accepts.    
for i in range(len(tableau20)):    
    r, g, b = tableau20[i]    
    tableau20[i] = (r / 255., g / 255., b / 255.)    
    

a2 = np.genfromtxt('potential_of_mean_force300_1.dat')
c2 = np.genfromtxt('pmf_300_4c.dat')
c2x= np.genfromtxt('pmf_300_4d.dat')
b2 = np.genfromtxt('potential_of_mean_force300_32.dat')
c2b= np.genfromtxt('pmf_300_4b.dat')
b2b= np.genfromtxt('pmf_300_32b.dat')
x=a2[:,0]

y2=a2[:,1]-0.2177327209
z2=b2[:,1]-0.1778532030
z2b=b2b[:,1]-0.1778532030
z2c=c2[:,1]-0.1790201784
z2d=c2b[:,1]-0.1790201784
z2e=c2x[:,1]-0.1790201784

plt.axes([0.12,0.12,0.8,0.8])
plt.axis([-0.02, 1.02 , -0.05 , 0.35])
plt.xticks(fontname="Times New Roman",fontsize = 18)
plt.yticks(fontname="Times New Roman",fontsize = 18)
plt.ylabel(r"W($\xi$)/eV", fontname="Times New Roman", fontsize = 18)
plt.xlabel(r"$\xi$", fontname="Times New Roman", fontsize = 18)


line_up,   =plt.plot(x,y2,"-",c=tableau20[8],lw=5,label="300 K, 1 bead")

line_down, =plt.plot(x,z2,"--",c=tableau20[6],lw=3,label="300 K, 32 beads")
line_0     =plt.plot(b2b[:,0],z2b,"-",c=tableau20[6],lw=3)

line_mid,  =plt.plot(c2[:,0],z2c,"-.",c=tableau20[4],lw=4,label="300 K, 4 beads",alpha=0.6)
line_mid.set_dashes([10,4,4,4])
line_1, =plt.plot(c2b[:,0],z2d,"-",c=tableau20[4],lw=4,alpha=0.6)
line_2, =plt.plot(c2x[:,0],z2e,"-.",c=tableau20[4],lw=4,alpha=0.6)
line_2.set_dashes([10,4,4,4])

plt.legend(fontsize = 14,loc=2,\
          handlelength=3,\
          handles=[line_up,line_mid,line_down])


filename = "pmf.RPMDb.png"

plt.savefig(filename, dpi = 300)
plt.show()
