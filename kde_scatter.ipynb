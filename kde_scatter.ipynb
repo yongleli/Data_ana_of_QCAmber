import numpy as np
import matplotlib.pyplot as plt
import fileinput
##from matplotlib import rc
import sys
from scipy.stats import gaussian_kde


mpl.rc('font',family='Times New Roman',size='16')


##rc('font',**{'family':'sans-serif','sans-serif':['Helvetica']})
## for Palatino and other serif fonts use:
##rc('font',**{'family':'serif','serif':['Palatino']})
#plt.rc('font',serif='Times New Roman')

#colors = [ "#32cd32","#ffc0cb","#ffff00","#ff0000","#4682b4"]
colors = ['#000000', '#ff0000', '#228b22', '#0000ff', '#b22222','#ff7f00',\
          '#bc8f8f','#a020f0','#40e0d0','#ff00ff']


#inputname1 = "Loop_pca12-ca.cmdpt.dat"
#data1 = np.loadtxt(inputname1)
inputname2 = "Loop_pca12-ca.dat"
data2 = np.loadtxt(inputname2)

fig = plt.figure(1,figsize=(12, 8))

### Plot color as density.

xy2 = np.vstack([data2[:,0],data2[:,1]])
z2  = gaussian_kde(xy2)(xy2)

# plot

ax2=plt.scatter(data2[:,0], -data2[:,1],c=z2,edgecolor='')
#plt.title('AMD',fontname="Times New Roman",fontsize=16)
plt.xticks(fontsize = 16)
plt.yticks(fontsize = 16)
plt.xlabel("PC 1",  fontsize = 20)
plt.ylabel("PC 2",  fontsize = 20)
plt.axis([-25,20,-10,16])

cbar=plt.colorbar(ticks=np.arange(0.0001,0.024,0.008))
#ax3=fig.add_subplot(1,1,1)
#ax3.axis('off')
#cbar = plt.colorbar(ax=ax2,ticks=[0, 0.0085, 0.017])
tx=cbar.set_ticklabels(['Low', 'Medium', 'High'])
#cbar.ax.tick_params(labelsize=20)

filename = "PCA_honey.Oct28.png"
plt.tight_layout()

plt.savefig(filename, dpi = 300)
